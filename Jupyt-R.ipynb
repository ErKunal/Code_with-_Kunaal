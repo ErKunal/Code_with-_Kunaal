{
    "cells": [
        {
            "cell_type": "markdown",
            "metadata": {
                "collapsed": true
            },
            "source": "## Book 1 12-16-20 mm Analsysis"
        },
        {
            "cell_type": "code",
            "execution_count": 1,
            "metadata": {},
            "outputs": [
                {
                    "data": {
                        "text/html": "<div>\n<style scoped>\n    .dataframe tbody tr th:only-of-type {\n        vertical-align: middle;\n    }\n\n    .dataframe tbody tr th {\n        vertical-align: top;\n    }\n\n    .dataframe thead th {\n        text-align: right;\n    }\n</style>\n<table border=\"1\" class=\"dataframe\">\n  <thead>\n    <tr style=\"text-align: right;\">\n      <th></th>\n      <th>Size (mm)</th>\n      <th>Date</th>\n      <th>Sample Time</th>\n      <th>Mill Speed</th>\n      <th>QB Inlet Temp</th>\n      <th>No of Open Valves</th>\n      <th>Water Pressure</th>\n      <th>QB Outlet Temp</th>\n      <th>Cooling Bed Temp</th>\n      <th>Grade</th>\n      <th>...</th>\n      <th>Unnamed: 46</th>\n      <th>Unnamed: 47</th>\n      <th>Unnamed: 48</th>\n      <th>Unnamed: 49</th>\n      <th>Unnamed: 50</th>\n      <th>Unnamed: 51</th>\n      <th>Unnamed: 52</th>\n      <th>Unnamed: 53</th>\n      <th>Unnamed: 54</th>\n      <th>Unnamed: 55</th>\n    </tr>\n  </thead>\n  <tbody>\n    <tr>\n      <th>0</th>\n      <td>12.0</td>\n      <td>29.01.2022</td>\n      <td>10:30</td>\n      <td>15.0</td>\n      <td>929.0</td>\n      <td>4.5</td>\n      <td>13.3</td>\n      <td>362.0</td>\n      <td>663.0</td>\n      <td>549.0</td>\n      <td>...</td>\n      <td>NaN</td>\n      <td>SUMMARY OUTPUT</td>\n      <td>NaN</td>\n      <td>NaN</td>\n      <td>NaN</td>\n      <td>NaN</td>\n      <td>NaN</td>\n      <td>NaN</td>\n      <td>NaN</td>\n      <td>NaN</td>\n    </tr>\n    <tr>\n      <th>1</th>\n      <td>12.0</td>\n      <td>29.01.2022</td>\n      <td>10:30</td>\n      <td>15.0</td>\n      <td>929.0</td>\n      <td>4.5</td>\n      <td>13.3</td>\n      <td>362.0</td>\n      <td>663.0</td>\n      <td>541.0</td>\n      <td>...</td>\n      <td>NaN</td>\n      <td>NaN</td>\n      <td>NaN</td>\n      <td>NaN</td>\n      <td>NaN</td>\n      <td>NaN</td>\n      <td>NaN</td>\n      <td>NaN</td>\n      <td>NaN</td>\n      <td>NaN</td>\n    </tr>\n    <tr>\n      <th>2</th>\n      <td>12.0</td>\n      <td>29.01.2022</td>\n      <td>10:50</td>\n      <td>15.0</td>\n      <td>931.0</td>\n      <td>4.5</td>\n      <td>13.3</td>\n      <td>365.0</td>\n      <td>643.0</td>\n      <td>557.0</td>\n      <td>...</td>\n      <td>NaN</td>\n      <td>Regression Statistics</td>\n      <td>NaN</td>\n      <td>NaN</td>\n      <td>NaN</td>\n      <td>NaN</td>\n      <td>NaN</td>\n      <td>NaN</td>\n      <td>NaN</td>\n      <td>NaN</td>\n    </tr>\n    <tr>\n      <th>3</th>\n      <td>12.0</td>\n      <td>29.01.2022</td>\n      <td>10:50</td>\n      <td>15.0</td>\n      <td>931.0</td>\n      <td>4.5</td>\n      <td>13.3</td>\n      <td>365.0</td>\n      <td>643.0</td>\n      <td>552.0</td>\n      <td>...</td>\n      <td>NaN</td>\n      <td>Multiple R</td>\n      <td>0.267740657</td>\n      <td>NaN</td>\n      <td>NaN</td>\n      <td>NaN</td>\n      <td>NaN</td>\n      <td>NaN</td>\n      <td>NaN</td>\n      <td>NaN</td>\n    </tr>\n    <tr>\n      <th>4</th>\n      <td>12.0</td>\n      <td>29.01.2022</td>\n      <td>11:00</td>\n      <td>15.0</td>\n      <td>914.0</td>\n      <td>4.5</td>\n      <td>13.3</td>\n      <td>371.0</td>\n      <td>613.0</td>\n      <td>555.0</td>\n      <td>...</td>\n      <td>NaN</td>\n      <td>R Square</td>\n      <td>0.071685059</td>\n      <td>NaN</td>\n      <td>NaN</td>\n      <td>NaN</td>\n      <td>NaN</td>\n      <td>NaN</td>\n      <td>NaN</td>\n      <td>NaN</td>\n    </tr>\n  </tbody>\n</table>\n<p>5 rows \u00d7 56 columns</p>\n</div>",
                        "text/plain": "   Size (mm)        Date Sample Time  Mill Speed  QB Inlet Temp  \\\n0       12.0  29.01.2022       10:30        15.0          929.0   \n1       12.0  29.01.2022       10:30        15.0          929.0   \n2       12.0  29.01.2022       10:50        15.0          931.0   \n3       12.0  29.01.2022       10:50        15.0          931.0   \n4       12.0  29.01.2022       11:00        15.0          914.0   \n\n   No of Open Valves  Water Pressure  QB Outlet Temp  Cooling Bed Temp  \\\n0                4.5            13.3           362.0             663.0   \n1                4.5            13.3           362.0             663.0   \n2                4.5            13.3           365.0             643.0   \n3                4.5            13.3           365.0             643.0   \n4                4.5            13.3           371.0             613.0   \n\n   Grade   ...  Unnamed: 46            Unnamed: 47  Unnamed: 48  Unnamed: 49  \\\n0   549.0  ...          NaN         SUMMARY OUTPUT          NaN          NaN   \n1   541.0  ...          NaN                    NaN          NaN          NaN   \n2   557.0  ...          NaN  Regression Statistics          NaN          NaN   \n3   552.0  ...          NaN             Multiple R  0.267740657          NaN   \n4   555.0  ...          NaN               R Square  0.071685059          NaN   \n\n   Unnamed: 50  Unnamed: 51  Unnamed: 52  Unnamed: 53  Unnamed: 54  \\\n0          NaN          NaN          NaN          NaN          NaN   \n1          NaN          NaN          NaN          NaN          NaN   \n2          NaN          NaN          NaN          NaN          NaN   \n3          NaN          NaN          NaN          NaN          NaN   \n4          NaN          NaN          NaN          NaN          NaN   \n\n   Unnamed: 55  \n0          NaN  \n1          NaN  \n2          NaN  \n3          NaN  \n4          NaN  \n\n[5 rows x 56 columns]"
                    },
                    "execution_count": 1,
                    "metadata": {},
                    "output_type": "execute_result"
                }
            ],
            "source": "# The code was removed by Watson Studio for sharing."
        },
        {
            "cell_type": "code",
            "execution_count": null,
            "metadata": {},
            "outputs": [],
            "source": ""
        }
    ],
    "metadata": {
        "kernelspec": {
            "display_name": "Python 3.9",
            "language": "python",
            "name": "python3"
        },
        "language_info": {
            "codemirror_mode": {
                "name": "ipython",
                "version": 3
            },
            "file_extension": ".py",
            "mimetype": "text/x-python",
            "name": "python",
            "nbconvert_exporter": "python",
            "pygments_lexer": "ipython3",
            "version": "3.9.7"
        }
    },
    "nbformat": 4,
    "nbformat_minor": 1
}